{
 "cells": [
  {
   "cell_type": "markdown",
   "metadata": {},
   "source": [
    "# Рекомендация тарифов"
   ]
  },
  {
   "cell_type": "markdown",
   "metadata": {},
   "source": [
    "В вашем распоряжении данные о поведении клиентов, которые уже перешли на эти тарифы (из проекта курса «Статистический анализ данных»). Нужно построить модель для задачи классификации, которая выберет подходящий тариф. Предобработка данных не понадобится — вы её уже сделали.\n",
    "\n",
    "Постройте модель с максимально большим значением *accuracy*. Чтобы сдать проект успешно, нужно довести долю правильных ответов по крайней мере до 0.75. Проверьте *accuracy* на тестовой выборке самостоятельно."
   ]
  },
  {
   "cell_type": "markdown",
   "metadata": {},
   "source": [
    "## Откройте и изучите файл"
   ]
  },
  {
   "cell_type": "code",
   "execution_count": 1,
   "metadata": {},
   "outputs": [],
   "source": [
    "import pandas as pd\n",
    "from sklearn.tree import DecisionTreeClassifier\n",
    "from sklearn.ensemble import RandomForestClassifier\n",
    "from sklearn.linear_model import LogisticRegression\n",
    "from sklearn.model_selection import train_test_split\n",
    "from sklearn.metrics import accuracy_score"
   ]
  },
  {
   "cell_type": "code",
   "execution_count": 2,
   "metadata": {},
   "outputs": [
    {
     "name": "stdout",
     "output_type": "stream",
     "text": [
      "   calls  minutes  messages   mb_used  is_ultra\n",
      "0   40.0   311.90      83.0  19915.42         0\n",
      "1   85.0   516.75      56.0  22696.96         0\n",
      "2   77.0   467.66      86.0  21060.45         0\n",
      "3  106.0   745.53      81.0   8437.39         1\n",
      "4   66.0   418.74       1.0  14502.75         0\n"
     ]
    }
   ],
   "source": [
    "# Откроем датафрейм,ознакомимся с данными\n",
    "data = pd.read_csv('/datasets/users_behavior.csv')\n",
    "print(data.head())"
   ]
  },
  {
   "cell_type": "code",
   "execution_count": 3,
   "metadata": {},
   "outputs": [
    {
     "name": "stdout",
     "output_type": "stream",
     "text": [
      "<class 'pandas.core.frame.DataFrame'>\n",
      "RangeIndex: 3214 entries, 0 to 3213\n",
      "Data columns (total 5 columns):\n",
      " #   Column    Non-Null Count  Dtype  \n",
      "---  ------    --------------  -----  \n",
      " 0   calls     3214 non-null   float64\n",
      " 1   minutes   3214 non-null   float64\n",
      " 2   messages  3214 non-null   float64\n",
      " 3   mb_used   3214 non-null   float64\n",
      " 4   is_ultra  3214 non-null   int64  \n",
      "dtypes: float64(4), int64(1)\n",
      "memory usage: 125.7 KB\n"
     ]
    }
   ],
   "source": [
    "data.info()"
   ]
  },
  {
   "cell_type": "code",
   "execution_count": 4,
   "metadata": {},
   "outputs": [
    {
     "data": {
      "text/plain": [
       "array([0, 1])"
      ]
     },
     "execution_count": 4,
     "metadata": {},
     "output_type": "execute_result"
    }
   ],
   "source": [
    "# смотрим колонку согласно задания, в нем 0 и 1 \n",
    "data['is_ultra'].unique()"
   ]
  },
  {
   "cell_type": "code",
   "execution_count": 5,
   "metadata": {},
   "outputs": [
    {
     "data": {
      "text/plain": [
       "0"
      ]
     },
     "execution_count": 5,
     "metadata": {},
     "output_type": "execute_result"
    }
   ],
   "source": [
    "# смотрим дубликаты\n",
    "data.duplicated().sum()"
   ]
  },
  {
   "cell_type": "markdown",
   "metadata": {},
   "source": [
    "## Разбейте данные на выборки"
   ]
  },
  {
   "cell_type": "code",
   "execution_count": 6,
   "metadata": {},
   "outputs": [],
   "source": [
    "data_t, data_test = train_test_split(data, test_size=0.2, random_state=12345)\n",
    "data_train, data_valid = train_test_split(data_t, test_size=0.25, random_state=12345)"
   ]
  },
  {
   "cell_type": "code",
   "execution_count": 7,
   "metadata": {},
   "outputs": [
    {
     "name": "stdout",
     "output_type": "stream",
     "text": [
      "<class 'pandas.core.frame.DataFrame'>\n",
      "Int64Index: 1928 entries, 2656 to 510\n",
      "Data columns (total 5 columns):\n",
      " #   Column    Non-Null Count  Dtype  \n",
      "---  ------    --------------  -----  \n",
      " 0   calls     1928 non-null   float64\n",
      " 1   minutes   1928 non-null   float64\n",
      " 2   messages  1928 non-null   float64\n",
      " 3   mb_used   1928 non-null   float64\n",
      " 4   is_ultra  1928 non-null   int64  \n",
      "dtypes: float64(4), int64(1)\n",
      "memory usage: 90.4 KB\n",
      "None\n",
      "<class 'pandas.core.frame.DataFrame'>\n",
      "Int64Index: 643 entries, 1415 to 1196\n",
      "Data columns (total 5 columns):\n",
      " #   Column    Non-Null Count  Dtype  \n",
      "---  ------    --------------  -----  \n",
      " 0   calls     643 non-null    float64\n",
      " 1   minutes   643 non-null    float64\n",
      " 2   messages  643 non-null    float64\n",
      " 3   mb_used   643 non-null    float64\n",
      " 4   is_ultra  643 non-null    int64  \n",
      "dtypes: float64(4), int64(1)\n",
      "memory usage: 30.1 KB\n",
      "None\n",
      "<class 'pandas.core.frame.DataFrame'>\n",
      "Int64Index: 643 entries, 2699 to 1806\n",
      "Data columns (total 5 columns):\n",
      " #   Column    Non-Null Count  Dtype  \n",
      "---  ------    --------------  -----  \n",
      " 0   calls     643 non-null    float64\n",
      " 1   minutes   643 non-null    float64\n",
      " 2   messages  643 non-null    float64\n",
      " 3   mb_used   643 non-null    float64\n",
      " 4   is_ultra  643 non-null    int64  \n",
      "dtypes: float64(4), int64(1)\n",
      "memory usage: 30.1 KB\n"
     ]
    }
   ],
   "source": [
    "print(data_train.info())\n",
    "print(data_test.info())\n",
    "data_valid.info()"
   ]
  },
  {
   "cell_type": "code",
   "execution_count": 8,
   "metadata": {},
   "outputs": [],
   "source": [
    "# разделим датафрейм, используя функцию train_test_split на три выборки"
   ]
  },
  {
   "cell_type": "markdown",
   "metadata": {},
   "source": [
    "## Исследуйте модели"
   ]
  },
  {
   "cell_type": "code",
   "execution_count": 9,
   "metadata": {},
   "outputs": [],
   "source": [
    "features_train = data_train.drop(['is_ultra'], axis=1)\n",
    "target_train = data_train['is_ultra']\n",
    "\n",
    "features_valid = data_valid.drop(['is_ultra'], axis=1)\n",
    "target_valid = data_valid['is_ultra']\n",
    "\n",
    "features_test = data_test.drop(['is_ultra'], axis=1)\n",
    "target_test = data_test['is_ultra']"
   ]
  },
  {
   "cell_type": "code",
   "execution_count": 10,
   "metadata": {},
   "outputs": [
    {
     "name": "stdout",
     "output_type": "stream",
     "text": [
      "0.7651632970451011 3\n"
     ]
    }
   ],
   "source": [
    "# дерево решений\n",
    "best_result = 0\n",
    "depth = 0\n",
    "depths = []\n",
    "results = []\n",
    "\n",
    "for depth in range(1, 6):\n",
    "    model = DecisionTreeClassifier(random_state=12345, max_depth=depth)\n",
    "    model.fit(features_train, target_train)\n",
    "    predictions_valid = model.predict(features_valid)\n",
    "    result = accuracy_score(target_valid, predictions_valid)\n",
    "    depths.append(depth)\n",
    "    results.append(result)\n",
    "    if result > best_result:\n",
    "        best_depth = depth\n",
    "        best_result = result\n",
    "\n",
    "print(best_result, best_depth)"
   ]
  },
  {
   "cell_type": "code",
   "execution_count": 11,
   "metadata": {},
   "outputs": [],
   "source": [
    "# наибольшая доля правильных ответов наблюдается у дерева с глубиной 3 - 76.5%"
   ]
  },
  {
   "cell_type": "code",
   "execution_count": 12,
   "metadata": {},
   "outputs": [
    {
     "name": "stdout",
     "output_type": "stream",
     "text": [
      "0.7993779160186625 80\n"
     ]
    }
   ],
   "source": [
    "# случайный лес\n",
    "best_model = None\n",
    "best_result = 0\n",
    "for est in range(10, 90, 10):\n",
    "    model = RandomForestClassifier(random_state=12345, n_estimators=est)\n",
    "    model.fit(features_train, target_train)\n",
    "    result = model.score(features_valid, target_valid)\n",
    "    if result > best_result:\n",
    "        best_model = model\n",
    "        best_result = result\n",
    "        best_est = est\n",
    "\n",
    "print(best_result, best_est)"
   ]
  },
  {
   "cell_type": "code",
   "execution_count": 13,
   "metadata": {},
   "outputs": [
    {
     "data": {
      "text/plain": [
       "0.7262830482115086"
      ]
     },
     "execution_count": 13,
     "metadata": {},
     "output_type": "execute_result"
    }
   ],
   "source": [
    "# логистическая регрессия\n",
    "model_lr = LogisticRegression()\n",
    "model_lr.fit(features_train, target_train)\n",
    "predictions_valid = model_lr.predict(features_valid)\n",
    "accuracy = model_lr.score(features_valid, target_valid)\n",
    "accuracy"
   ]
  },
  {
   "cell_type": "markdown",
   "metadata": {},
   "source": [
    "Доля правильных ответов в модели логистической регрессии - 72.6%"
   ]
  },
  {
   "cell_type": "markdown",
   "metadata": {},
   "source": [
    "## Проверьте модель на тестовой выборке"
   ]
  },
  {
   "cell_type": "code",
   "execution_count": 14,
   "metadata": {},
   "outputs": [],
   "source": [
    "# model = DecisionTreeClassifier(max_depth=9, random_state=1)\n",
    "# model.fit(features_train, target_train)\n",
    "# predictions_test = model.predict(features_test)\n",
    "# accuracy_score(target_test, predictions_test)"
   ]
  },
  {
   "cell_type": "code",
   "execution_count": 15,
   "metadata": {},
   "outputs": [],
   "source": [
    "features_test = data_test.drop(['is_ultra'], axis=1)\n",
    "target_test = data_test['is_ultra']"
   ]
  },
  {
   "cell_type": "code",
   "execution_count": 16,
   "metadata": {},
   "outputs": [
    {
     "data": {
      "text/plain": [
       "0.7713841368584758"
      ]
     },
     "execution_count": 16,
     "metadata": {},
     "output_type": "execute_result"
    }
   ],
   "source": [
    "features_train_t = data_t.drop(['is_ultra'], axis=1)\n",
    "target_train_t = data_t['is_ultra']\n",
    "\n",
    "model_forest = RandomForestClassifier(random_state=12345, n_estimators=80)\n",
    "model_forest.fit(features_train_t, target_train_t)\n",
    "\n",
    "predictions_test_forest = model_forest.predict(features_test)\n",
    "accuracy_test_forest = accuracy_score(target_test, predictions_test_forest)\n",
    "accuracy_test_forest"
   ]
  },
  {
   "cell_type": "markdown",
   "metadata": {},
   "source": [
    "На тестовой выборке выбранная модель показывает точность близкую к валидационной, но не больше. Это означает отсутствие проблем с переобучение модели."
   ]
  },
  {
   "cell_type": "markdown",
   "metadata": {},
   "source": [
    "## Проверьте модели на адекватность"
   ]
  },
  {
   "cell_type": "code",
   "execution_count": 17,
   "metadata": {},
   "outputs": [
    {
     "data": {
      "text/plain": [
       "0    2229\n",
       "1     985\n",
       "Name: is_ultra, dtype: int64"
      ]
     },
     "execution_count": 17,
     "metadata": {},
     "output_type": "execute_result"
    }
   ],
   "source": [
    "data['is_ultra'].value_counts()"
   ]
  },
  {
   "cell_type": "code",
   "execution_count": 18,
   "metadata": {},
   "outputs": [
    {
     "data": {
      "text/plain": [
       "0    447\n",
       "1    196\n",
       "Name: is_ultra, dtype: int64"
      ]
     },
     "execution_count": 18,
     "metadata": {},
     "output_type": "execute_result"
    }
   ],
   "source": [
    "data_test['is_ultra'].value_counts()"
   ]
  },
  {
   "cell_type": "code",
   "execution_count": 19,
   "metadata": {},
   "outputs": [
    {
     "data": {
      "text/plain": [
       "0    0.693528\n",
       "1    0.306472\n",
       "Name: is_ultra, dtype: float64"
      ]
     },
     "execution_count": 19,
     "metadata": {},
     "output_type": "execute_result"
    }
   ],
   "source": [
    "data['is_ultra'].value_counts(normalize=True)"
   ]
  },
  {
   "cell_type": "markdown",
   "metadata": {},
   "source": [
    "Доля большего класса тестовой выборки равна ~0.69 (Смарт); полученная нами модель имеет accuracy ~0.79. Таким образом, мы можем считать модель адекватной для использования"
   ]
  },
  {
   "cell_type": "markdown",
   "metadata": {},
   "source": [
    "Вывод\n",
    "\n",
    "Наиболее адекватные предсказания делает Random Forest, это видно по точности предсказания на валидационной и на тестовой выборке\n",
    "\n",
    "В исследовании участвовали три различные алгоритма классификации:случайный лес, дерево решений, логистическая регрессия.\n",
    "Для проведения обучения, проверки моделей и тестирования лучшей модели исходный датафрейм был разделён на три выборки: обучающую (60%), валидационную (20%) и тестовую (20%).\n",
    "При проверке модели на адекватность сделан вывод, что она показывает намного лучший результат, чем модель с примитивным прогнозом.\n",
    "По итогам исследования можно сделать вывод о том, что для получения рекомендации тарифных планов наиболее подходящей является модель - Random Forest,  с количеством деревьев 80, где доля правильных ответов в тестовой выборке составила 77.1%"
   ]
  },
  {
   "cell_type": "code",
   "execution_count": null,
   "metadata": {},
   "outputs": [],
   "source": []
  }
 ],
 "metadata": {
  "ExecuteTimeLog": [
   {
    "duration": 1601,
    "start_time": "2023-05-29T15:23:20.097Z"
   },
   {
    "duration": 108,
    "start_time": "2023-05-29T15:23:24.431Z"
   },
   {
    "duration": 154,
    "start_time": "2023-05-29T15:23:26.807Z"
   },
   {
    "duration": 12,
    "start_time": "2023-05-29T15:23:33.307Z"
   },
   {
    "duration": 7,
    "start_time": "2023-05-29T15:23:59.041Z"
   },
   {
    "duration": 8,
    "start_time": "2023-05-29T15:28:34.431Z"
   },
   {
    "duration": 8,
    "start_time": "2023-05-29T15:29:57.144Z"
   },
   {
    "duration": 12,
    "start_time": "2023-05-29T15:40:18.776Z"
   },
   {
    "duration": 23,
    "start_time": "2023-05-29T15:40:38.732Z"
   },
   {
    "duration": 6,
    "start_time": "2023-05-29T15:42:01.990Z"
   },
   {
    "duration": 24,
    "start_time": "2023-05-29T15:42:05.066Z"
   },
   {
    "duration": 3,
    "start_time": "2023-05-29T15:42:42.521Z"
   },
   {
    "duration": 7,
    "start_time": "2023-05-29T15:48:07.442Z"
   },
   {
    "duration": 33,
    "start_time": "2023-05-29T16:07:34.295Z"
   },
   {
    "duration": 57,
    "start_time": "2023-05-29T16:09:58.618Z"
   },
   {
    "duration": 2298,
    "start_time": "2023-05-29T16:11:25.071Z"
   },
   {
    "duration": 2262,
    "start_time": "2023-05-29T16:11:55.536Z"
   },
   {
    "duration": 1541,
    "start_time": "2023-05-29T16:12:17.034Z"
   },
   {
    "duration": 44,
    "start_time": "2023-05-29T16:16:35.029Z"
   },
   {
    "duration": 18,
    "start_time": "2023-05-29T16:18:26.732Z"
   },
   {
    "duration": 7,
    "start_time": "2023-05-29T16:25:15.774Z"
   },
   {
    "duration": 7,
    "start_time": "2023-05-29T16:25:31.567Z"
   },
   {
    "duration": 10,
    "start_time": "2023-05-29T16:25:52.687Z"
   },
   {
    "duration": 3,
    "start_time": "2023-05-29T16:35:22.318Z"
   },
   {
    "duration": 3,
    "start_time": "2023-05-29T16:38:11.658Z"
   },
   {
    "duration": 1449,
    "start_time": "2023-05-30T11:29:56.024Z"
   },
   {
    "duration": 69,
    "start_time": "2023-05-30T11:29:57.475Z"
   },
   {
    "duration": 10,
    "start_time": "2023-05-30T11:29:57.546Z"
   },
   {
    "duration": 14,
    "start_time": "2023-05-30T11:29:57.559Z"
   },
   {
    "duration": 29,
    "start_time": "2023-05-30T11:29:57.575Z"
   },
   {
    "duration": 16,
    "start_time": "2023-05-30T11:29:57.606Z"
   },
   {
    "duration": 39,
    "start_time": "2023-05-30T11:29:57.624Z"
   },
   {
    "duration": 2,
    "start_time": "2023-05-30T11:29:57.665Z"
   },
   {
    "duration": 17,
    "start_time": "2023-05-30T11:29:57.669Z"
   },
   {
    "duration": 38,
    "start_time": "2023-05-30T11:29:57.689Z"
   },
   {
    "duration": 3,
    "start_time": "2023-05-30T11:29:57.728Z"
   },
   {
    "duration": 1419,
    "start_time": "2023-05-30T11:29:57.733Z"
   },
   {
    "duration": 39,
    "start_time": "2023-05-30T11:29:59.157Z"
   },
   {
    "duration": 13,
    "start_time": "2023-05-30T11:29:59.198Z"
   },
   {
    "duration": 6,
    "start_time": "2023-05-30T11:29:59.213Z"
   },
   {
    "duration": 10,
    "start_time": "2023-05-30T11:29:59.221Z"
   },
   {
    "duration": 11,
    "start_time": "2023-05-30T11:29:59.257Z"
   },
   {
    "duration": 18,
    "start_time": "2023-05-30T11:29:59.270Z"
   },
   {
    "duration": 47,
    "start_time": "2023-06-01T15:27:07.179Z"
   },
   {
    "duration": 7,
    "start_time": "2023-06-01T15:27:26.304Z"
   },
   {
    "duration": 7,
    "start_time": "2023-06-01T15:28:16.874Z"
   },
   {
    "duration": 1163,
    "start_time": "2023-06-01T15:28:35.017Z"
   },
   {
    "duration": 116,
    "start_time": "2023-06-01T15:28:36.182Z"
   },
   {
    "duration": 12,
    "start_time": "2023-06-01T15:28:36.300Z"
   },
   {
    "duration": 12,
    "start_time": "2023-06-01T15:28:36.314Z"
   },
   {
    "duration": 25,
    "start_time": "2023-06-01T15:28:36.328Z"
   },
   {
    "duration": 7,
    "start_time": "2023-06-01T15:28:36.354Z"
   },
   {
    "duration": 40,
    "start_time": "2023-06-01T15:28:36.362Z"
   },
   {
    "duration": 3,
    "start_time": "2023-06-01T15:28:36.404Z"
   },
   {
    "duration": 8,
    "start_time": "2023-06-01T15:28:36.408Z"
   },
   {
    "duration": 32,
    "start_time": "2023-06-01T15:28:36.418Z"
   },
   {
    "duration": 3,
    "start_time": "2023-06-01T15:28:36.452Z"
   },
   {
    "duration": 1391,
    "start_time": "2023-06-01T15:28:36.457Z"
   },
   {
    "duration": 44,
    "start_time": "2023-06-01T15:28:37.850Z"
   },
   {
    "duration": 14,
    "start_time": "2023-06-01T15:28:37.895Z"
   },
   {
    "duration": 4,
    "start_time": "2023-06-01T15:28:37.910Z"
   },
   {
    "duration": 28,
    "start_time": "2023-06-01T15:28:37.916Z"
   },
   {
    "duration": 26,
    "start_time": "2023-06-01T15:28:37.946Z"
   },
   {
    "duration": 9,
    "start_time": "2023-06-01T15:28:37.973Z"
   },
   {
    "duration": 6,
    "start_time": "2023-06-01T15:28:37.984Z"
   },
   {
    "duration": 4,
    "start_time": "2023-06-01T15:28:41.966Z"
   },
   {
    "duration": 107,
    "start_time": "2023-06-01T15:29:47.562Z"
   },
   {
    "duration": 1252,
    "start_time": "2023-06-01T15:31:03.509Z"
   },
   {
    "duration": 38,
    "start_time": "2023-06-01T15:31:04.763Z"
   },
   {
    "duration": 281,
    "start_time": "2023-06-01T15:31:04.803Z"
   },
   {
    "duration": 194,
    "start_time": "2023-06-01T15:31:05.086Z"
   },
   {
    "duration": 147,
    "start_time": "2023-06-01T15:31:05.283Z"
   },
   {
    "duration": 167,
    "start_time": "2023-06-01T15:31:05.432Z"
   },
   {
    "duration": 216,
    "start_time": "2023-06-01T15:31:05.601Z"
   },
   {
    "duration": 79,
    "start_time": "2023-06-01T15:31:05.820Z"
   },
   {
    "duration": 84,
    "start_time": "2023-06-01T15:31:05.901Z"
   },
   {
    "duration": 92,
    "start_time": "2023-06-01T15:31:05.987Z"
   },
   {
    "duration": 119,
    "start_time": "2023-06-01T15:31:06.081Z"
   },
   {
    "duration": 1652,
    "start_time": "2023-06-01T15:31:06.202Z"
   },
   {
    "duration": 44,
    "start_time": "2023-06-01T15:31:07.855Z"
   },
   {
    "duration": 8,
    "start_time": "2023-06-01T15:31:07.902Z"
   },
   {
    "duration": 41,
    "start_time": "2023-06-01T15:31:07.912Z"
   },
   {
    "duration": 145,
    "start_time": "2023-06-01T15:31:07.955Z"
   },
   {
    "duration": 0,
    "start_time": "2023-06-01T15:31:08.102Z"
   },
   {
    "duration": 0,
    "start_time": "2023-06-01T15:31:08.103Z"
   },
   {
    "duration": 0,
    "start_time": "2023-06-01T15:31:08.104Z"
   },
   {
    "duration": 0,
    "start_time": "2023-06-01T15:31:08.105Z"
   },
   {
    "duration": 11,
    "start_time": "2023-06-01T15:31:32.981Z"
   },
   {
    "duration": 12,
    "start_time": "2023-06-01T15:31:36.594Z"
   },
   {
    "duration": 12,
    "start_time": "2023-06-01T15:31:43.107Z"
   },
   {
    "duration": 451,
    "start_time": "2023-06-01T15:34:21.817Z"
   },
   {
    "duration": 1495,
    "start_time": "2023-06-02T12:22:18.377Z"
   },
   {
    "duration": 74,
    "start_time": "2023-06-02T12:22:19.875Z"
   },
   {
    "duration": 14,
    "start_time": "2023-06-02T12:22:19.951Z"
   },
   {
    "duration": 32,
    "start_time": "2023-06-02T12:22:19.967Z"
   },
   {
    "duration": 39,
    "start_time": "2023-06-02T12:22:20.001Z"
   },
   {
    "duration": 21,
    "start_time": "2023-06-02T12:22:20.042Z"
   },
   {
    "duration": 33,
    "start_time": "2023-06-02T12:22:20.065Z"
   },
   {
    "duration": 12,
    "start_time": "2023-06-02T12:22:20.100Z"
   },
   {
    "duration": 156,
    "start_time": "2023-06-02T12:22:20.114Z"
   },
   {
    "duration": 51,
    "start_time": "2023-06-02T12:22:20.272Z"
   },
   {
    "duration": 16,
    "start_time": "2023-06-02T12:22:20.325Z"
   },
   {
    "duration": 1397,
    "start_time": "2023-06-02T12:22:20.343Z"
   },
   {
    "duration": 40,
    "start_time": "2023-06-02T12:22:21.742Z"
   },
   {
    "duration": 2,
    "start_time": "2023-06-02T12:22:21.785Z"
   },
   {
    "duration": 25,
    "start_time": "2023-06-02T12:22:21.789Z"
   },
   {
    "duration": 409,
    "start_time": "2023-06-02T12:22:21.816Z"
   },
   {
    "duration": 4,
    "start_time": "2023-06-02T12:22:22.227Z"
   },
   {
    "duration": 38,
    "start_time": "2023-06-02T12:22:22.232Z"
   },
   {
    "duration": 38,
    "start_time": "2023-06-02T12:22:22.271Z"
   }
  ],
  "kernelspec": {
   "display_name": "Python 3 (ipykernel)",
   "language": "python",
   "name": "python3"
  },
  "language_info": {
   "codemirror_mode": {
    "name": "ipython",
    "version": 3
   },
   "file_extension": ".py",
   "mimetype": "text/x-python",
   "name": "python",
   "nbconvert_exporter": "python",
   "pygments_lexer": "ipython3",
   "version": "3.9.5"
  },
  "toc": {
   "base_numbering": 1,
   "nav_menu": {},
   "number_sections": true,
   "sideBar": true,
   "skip_h1_title": true,
   "title_cell": "Table of Contents",
   "title_sidebar": "Contents",
   "toc_cell": false,
   "toc_position": {},
   "toc_section_display": true,
   "toc_window_display": false
  }
 },
 "nbformat": 4,
 "nbformat_minor": 2
}
